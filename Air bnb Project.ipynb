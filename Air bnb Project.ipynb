{
 "cells": [
  {
   "cell_type": "markdown",
   "id": "9799dd19-f05d-40ed-91ca-b47c62f43983",
   "metadata": {},
   "source": [
    "# Air BNB Data Analysis Project"
   ]
  },
  {
   "cell_type": "code",
   "execution_count": 1,
   "id": "b66e0613-f28b-4f8c-9d07-734ab320a87a",
   "metadata": {},
   "outputs": [],
   "source": [
    "import pandas as pd \n",
    "import numpy as np\n",
    "import matplotlib.pyplot as plt\n",
    "import seaborn as sns"
   ]
  },
  {
   "cell_type": "code",
   "execution_count": 2,
   "id": "f67f2c2e-7880-493b-af9f-804813e7b796",
   "metadata": {},
   "outputs": [
    {
     "name": "stderr",
     "output_type": "stream",
     "text": [
      "C:\\Users\\Gupta ka Lapto\\AppData\\Local\\Temp\\ipykernel_3212\\1646698765.py:1: DtypeWarning: Columns (25) have mixed types. Specify dtype option on import or set low_memory=False.\n",
      "  df = pd.read_csv(\"Air_bnb_Data.csv\")\n"
     ]
    }
   ],
   "source": [
    "df = pd.read_csv(\"Air_bnb_Data.csv\")"
   ]
  },
  {
   "cell_type": "code",
   "execution_count": 3,
   "id": "9d0d3936-ecd3-4472-89ef-cfb1b20150fe",
   "metadata": {},
   "outputs": [
    {
     "data": {
      "text/html": [
       "<div>\n",
       "<style scoped>\n",
       "    .dataframe tbody tr th:only-of-type {\n",
       "        vertical-align: middle;\n",
       "    }\n",
       "\n",
       "    .dataframe tbody tr th {\n",
       "        vertical-align: top;\n",
       "    }\n",
       "\n",
       "    .dataframe thead th {\n",
       "        text-align: right;\n",
       "    }\n",
       "</style>\n",
       "<table border=\"1\" class=\"dataframe\">\n",
       "  <thead>\n",
       "    <tr style=\"text-align: right;\">\n",
       "      <th></th>\n",
       "      <th>id</th>\n",
       "      <th>NAME</th>\n",
       "      <th>host id</th>\n",
       "      <th>host_identity_verified</th>\n",
       "      <th>host name</th>\n",
       "      <th>neighbourhood group</th>\n",
       "      <th>neighbourhood</th>\n",
       "      <th>lat</th>\n",
       "      <th>long</th>\n",
       "      <th>country</th>\n",
       "      <th>...</th>\n",
       "      <th>service fee</th>\n",
       "      <th>minimum nights</th>\n",
       "      <th>number of reviews</th>\n",
       "      <th>last review</th>\n",
       "      <th>reviews per month</th>\n",
       "      <th>review rate number</th>\n",
       "      <th>calculated host listings count</th>\n",
       "      <th>availability 365</th>\n",
       "      <th>house_rules</th>\n",
       "      <th>license</th>\n",
       "    </tr>\n",
       "  </thead>\n",
       "  <tbody>\n",
       "    <tr>\n",
       "      <th>0</th>\n",
       "      <td>1001254</td>\n",
       "      <td>Clean &amp; quiet apt home by the park</td>\n",
       "      <td>80014485718</td>\n",
       "      <td>unconfirmed</td>\n",
       "      <td>Madaline</td>\n",
       "      <td>Brooklyn</td>\n",
       "      <td>Kensington</td>\n",
       "      <td>40.64749</td>\n",
       "      <td>-73.97237</td>\n",
       "      <td>United States</td>\n",
       "      <td>...</td>\n",
       "      <td>$193</td>\n",
       "      <td>10.0</td>\n",
       "      <td>9.0</td>\n",
       "      <td>10/19/2021</td>\n",
       "      <td>0.21</td>\n",
       "      <td>4.0</td>\n",
       "      <td>6.0</td>\n",
       "      <td>286.0</td>\n",
       "      <td>Clean up and treat the home the way you'd like...</td>\n",
       "      <td>NaN</td>\n",
       "    </tr>\n",
       "    <tr>\n",
       "      <th>1</th>\n",
       "      <td>1002102</td>\n",
       "      <td>Skylit Midtown Castle</td>\n",
       "      <td>52335172823</td>\n",
       "      <td>verified</td>\n",
       "      <td>Jenna</td>\n",
       "      <td>Manhattan</td>\n",
       "      <td>Midtown</td>\n",
       "      <td>40.75362</td>\n",
       "      <td>-73.98377</td>\n",
       "      <td>United States</td>\n",
       "      <td>...</td>\n",
       "      <td>$28</td>\n",
       "      <td>30.0</td>\n",
       "      <td>45.0</td>\n",
       "      <td>5/21/2022</td>\n",
       "      <td>0.38</td>\n",
       "      <td>4.0</td>\n",
       "      <td>2.0</td>\n",
       "      <td>228.0</td>\n",
       "      <td>Pet friendly but please confirm with me if the...</td>\n",
       "      <td>NaN</td>\n",
       "    </tr>\n",
       "    <tr>\n",
       "      <th>2</th>\n",
       "      <td>1002403</td>\n",
       "      <td>THE VILLAGE OF HARLEM....NEW YORK !</td>\n",
       "      <td>78829239556</td>\n",
       "      <td>NaN</td>\n",
       "      <td>Elise</td>\n",
       "      <td>Manhattan</td>\n",
       "      <td>Harlem</td>\n",
       "      <td>40.80902</td>\n",
       "      <td>-73.94190</td>\n",
       "      <td>United States</td>\n",
       "      <td>...</td>\n",
       "      <td>$124</td>\n",
       "      <td>3.0</td>\n",
       "      <td>0.0</td>\n",
       "      <td>NaN</td>\n",
       "      <td>NaN</td>\n",
       "      <td>5.0</td>\n",
       "      <td>1.0</td>\n",
       "      <td>352.0</td>\n",
       "      <td>I encourage you to use my kitchen, cooking and...</td>\n",
       "      <td>NaN</td>\n",
       "    </tr>\n",
       "    <tr>\n",
       "      <th>3</th>\n",
       "      <td>1002755</td>\n",
       "      <td>NaN</td>\n",
       "      <td>85098326012</td>\n",
       "      <td>unconfirmed</td>\n",
       "      <td>Garry</td>\n",
       "      <td>Brooklyn</td>\n",
       "      <td>Clinton Hill</td>\n",
       "      <td>40.68514</td>\n",
       "      <td>-73.95976</td>\n",
       "      <td>United States</td>\n",
       "      <td>...</td>\n",
       "      <td>$74</td>\n",
       "      <td>30.0</td>\n",
       "      <td>270.0</td>\n",
       "      <td>7/5/2019</td>\n",
       "      <td>4.64</td>\n",
       "      <td>4.0</td>\n",
       "      <td>1.0</td>\n",
       "      <td>322.0</td>\n",
       "      <td>NaN</td>\n",
       "      <td>NaN</td>\n",
       "    </tr>\n",
       "    <tr>\n",
       "      <th>4</th>\n",
       "      <td>1003689</td>\n",
       "      <td>Entire Apt: Spacious Studio/Loft by central park</td>\n",
       "      <td>92037596077</td>\n",
       "      <td>verified</td>\n",
       "      <td>Lyndon</td>\n",
       "      <td>Manhattan</td>\n",
       "      <td>East Harlem</td>\n",
       "      <td>40.79851</td>\n",
       "      <td>-73.94399</td>\n",
       "      <td>United States</td>\n",
       "      <td>...</td>\n",
       "      <td>$41</td>\n",
       "      <td>10.0</td>\n",
       "      <td>9.0</td>\n",
       "      <td>11/19/2018</td>\n",
       "      <td>0.10</td>\n",
       "      <td>3.0</td>\n",
       "      <td>1.0</td>\n",
       "      <td>289.0</td>\n",
       "      <td>Please no smoking in the house, porch or on th...</td>\n",
       "      <td>NaN</td>\n",
       "    </tr>\n",
       "  </tbody>\n",
       "</table>\n",
       "<p>5 rows × 26 columns</p>\n",
       "</div>"
      ],
      "text/plain": [
       "        id                                              NAME      host id  \\\n",
       "0  1001254                Clean & quiet apt home by the park  80014485718   \n",
       "1  1002102                             Skylit Midtown Castle  52335172823   \n",
       "2  1002403               THE VILLAGE OF HARLEM....NEW YORK !  78829239556   \n",
       "3  1002755                                               NaN  85098326012   \n",
       "4  1003689  Entire Apt: Spacious Studio/Loft by central park  92037596077   \n",
       "\n",
       "  host_identity_verified host name neighbourhood group neighbourhood  \\\n",
       "0            unconfirmed  Madaline            Brooklyn    Kensington   \n",
       "1               verified     Jenna           Manhattan       Midtown   \n",
       "2                    NaN     Elise           Manhattan        Harlem   \n",
       "3            unconfirmed     Garry            Brooklyn  Clinton Hill   \n",
       "4               verified    Lyndon           Manhattan   East Harlem   \n",
       "\n",
       "        lat      long        country  ... service fee minimum nights  \\\n",
       "0  40.64749 -73.97237  United States  ...       $193            10.0   \n",
       "1  40.75362 -73.98377  United States  ...        $28            30.0   \n",
       "2  40.80902 -73.94190  United States  ...       $124             3.0   \n",
       "3  40.68514 -73.95976  United States  ...        $74            30.0   \n",
       "4  40.79851 -73.94399  United States  ...        $41            10.0   \n",
       "\n",
       "  number of reviews last review  reviews per month review rate number  \\\n",
       "0               9.0  10/19/2021               0.21                4.0   \n",
       "1              45.0   5/21/2022               0.38                4.0   \n",
       "2               0.0         NaN                NaN                5.0   \n",
       "3             270.0    7/5/2019               4.64                4.0   \n",
       "4               9.0  11/19/2018               0.10                3.0   \n",
       "\n",
       "  calculated host listings count  availability 365  \\\n",
       "0                            6.0             286.0   \n",
       "1                            2.0             228.0   \n",
       "2                            1.0             352.0   \n",
       "3                            1.0             322.0   \n",
       "4                            1.0             289.0   \n",
       "\n",
       "                                         house_rules license  \n",
       "0  Clean up and treat the home the way you'd like...     NaN  \n",
       "1  Pet friendly but please confirm with me if the...     NaN  \n",
       "2  I encourage you to use my kitchen, cooking and...     NaN  \n",
       "3                                                NaN     NaN  \n",
       "4  Please no smoking in the house, porch or on th...     NaN  \n",
       "\n",
       "[5 rows x 26 columns]"
      ]
     },
     "execution_count": 3,
     "metadata": {},
     "output_type": "execute_result"
    }
   ],
   "source": [
    "df.head()"
   ]
  },
  {
   "cell_type": "code",
   "execution_count": 4,
   "id": "99350f1d-944d-4084-9de6-f68f4536ab77",
   "metadata": {},
   "outputs": [
    {
     "data": {
      "text/plain": [
       "Index(['id', 'NAME', 'host id', 'host_identity_verified', 'host name',\n",
       "       'neighbourhood group', 'neighbourhood', 'lat', 'long', 'country',\n",
       "       'country code', 'instant_bookable', 'cancellation_policy', 'room type',\n",
       "       'Construction year', 'price', 'service fee', 'minimum nights',\n",
       "       'number of reviews', 'last review', 'reviews per month',\n",
       "       'review rate number', 'calculated host listings count',\n",
       "       'availability 365', 'house_rules', 'license'],\n",
       "      dtype='object')"
      ]
     },
     "execution_count": 4,
     "metadata": {},
     "output_type": "execute_result"
    }
   ],
   "source": [
    "df.columns"
   ]
  },
  {
   "cell_type": "markdown",
   "id": "f2be4f64-6b2d-4d44-9de2-591911d7acf0",
   "metadata": {},
   "source": [
    "# Checking Missing Value"
   ]
  },
  {
   "cell_type": "code",
   "execution_count": 5,
   "id": "4a5006f6-6ca2-411d-b8f1-feda0d25bb99",
   "metadata": {},
   "outputs": [
    {
     "name": "stdout",
     "output_type": "stream",
     "text": [
      "id                                     0\n",
      "NAME                                 250\n",
      "host id                                0\n",
      "host_identity_verified               289\n",
      "host name                            406\n",
      "neighbourhood group                   29\n",
      "neighbourhood                         16\n",
      "lat                                    8\n",
      "long                                   8\n",
      "country                              532\n",
      "country code                         131\n",
      "instant_bookable                     105\n",
      "cancellation_policy                   76\n",
      "room type                              0\n",
      "Construction year                    214\n",
      "price                                247\n",
      "service fee                          273\n",
      "minimum nights                       409\n",
      "number of reviews                    183\n",
      "last review                        15893\n",
      "reviews per month                  15879\n",
      "review rate number                   326\n",
      "calculated host listings count       319\n",
      "availability 365                     448\n",
      "house_rules                        52131\n",
      "license                           102597\n",
      "dtype: int64\n"
     ]
    }
   ],
   "source": [
    "print(df.isnull().sum())"
   ]
  },
  {
   "cell_type": "markdown",
   "id": "98326243-365c-41f8-9d72-575cf39f634c",
   "metadata": {},
   "source": [
    "# Handling missing value "
   ]
  },
  {
   "cell_type": "code",
   "execution_count": 6,
   "id": "54b912e5-eff8-451d-b03a-d1473f93d530",
   "metadata": {},
   "outputs": [],
   "source": [
    "df['last review'] = pd.to_datetime(df['last review'], errors = 'coerce')"
   ]
  },
  {
   "cell_type": "code",
   "execution_count": 7,
   "id": "9e85aba1-3aea-436c-a620-b73b9873cc36",
   "metadata": {},
   "outputs": [
    {
     "name": "stdout",
     "output_type": "stream",
     "text": [
      "<class 'pandas.core.frame.DataFrame'>\n",
      "RangeIndex: 102599 entries, 0 to 102598\n",
      "Data columns (total 26 columns):\n",
      " #   Column                          Non-Null Count   Dtype         \n",
      "---  ------                          --------------   -----         \n",
      " 0   id                              102599 non-null  int64         \n",
      " 1   NAME                            102349 non-null  object        \n",
      " 2   host id                         102599 non-null  int64         \n",
      " 3   host_identity_verified          102310 non-null  object        \n",
      " 4   host name                       102193 non-null  object        \n",
      " 5   neighbourhood group             102570 non-null  object        \n",
      " 6   neighbourhood                   102583 non-null  object        \n",
      " 7   lat                             102591 non-null  float64       \n",
      " 8   long                            102591 non-null  float64       \n",
      " 9   country                         102067 non-null  object        \n",
      " 10  country code                    102468 non-null  object        \n",
      " 11  instant_bookable                102494 non-null  object        \n",
      " 12  cancellation_policy             102523 non-null  object        \n",
      " 13  room type                       102599 non-null  object        \n",
      " 14  Construction year               102385 non-null  float64       \n",
      " 15  price                           102352 non-null  object        \n",
      " 16  service fee                     102326 non-null  object        \n",
      " 17  minimum nights                  102190 non-null  float64       \n",
      " 18  number of reviews               102416 non-null  float64       \n",
      " 19  last review                     86706 non-null   datetime64[ns]\n",
      " 20  reviews per month               86720 non-null   float64       \n",
      " 21  review rate number              102273 non-null  float64       \n",
      " 22  calculated host listings count  102280 non-null  float64       \n",
      " 23  availability 365                102151 non-null  float64       \n",
      " 24  house_rules                     50468 non-null   object        \n",
      " 25  license                         2 non-null       object        \n",
      "dtypes: datetime64[ns](1), float64(9), int64(2), object(14)\n",
      "memory usage: 20.4+ MB\n"
     ]
    }
   ],
   "source": [
    "df.info()"
   ]
  },
  {
   "cell_type": "code",
   "execution_count": 8,
   "id": "01bf0d2a-5719-4c27-abef-b5f10a769572",
   "metadata": {},
   "outputs": [],
   "source": [
    "df.fillna({'reviews per month': 0,'last review': df['last review'].min()}, inplace = True)"
   ]
  },
  {
   "cell_type": "code",
   "execution_count": 9,
   "id": "8c360e64-5f27-4cbf-8091-8d489ffaeda1",
   "metadata": {},
   "outputs": [],
   "source": [
    "df.dropna(subset = ['NAME','host name'], inplace = True)"
   ]
  },
  {
   "cell_type": "code",
   "execution_count": 10,
   "id": "7a487912-3a80-472f-8748-cab6b6b178cb",
   "metadata": {},
   "outputs": [
    {
     "name": "stdout",
     "output_type": "stream",
     "text": [
      "id                                     0\n",
      "NAME                                   0\n",
      "host id                                0\n",
      "host_identity_verified               276\n",
      "host name                              0\n",
      "neighbourhood group                   26\n",
      "neighbourhood                         16\n",
      "lat                                    8\n",
      "long                                   8\n",
      "country                              526\n",
      "country code                         122\n",
      "instant_bookable                      96\n",
      "cancellation_policy                   70\n",
      "room type                              0\n",
      "Construction year                    200\n",
      "price                                239\n",
      "service fee                          268\n",
      "minimum nights                       403\n",
      "number of reviews                    182\n",
      "last review                            0\n",
      "reviews per month                      0\n",
      "review rate number                   314\n",
      "calculated host listings count       318\n",
      "availability 365                     420\n",
      "house_rules                        51867\n",
      "license                           101947\n",
      "dtype: int64\n"
     ]
    }
   ],
   "source": [
    "print(df.isnull().sum())"
   ]
  },
  {
   "cell_type": "code",
   "execution_count": 11,
   "id": "2cb1d25b-6d57-47e0-bba1-83d2b8383145",
   "metadata": {},
   "outputs": [],
   "source": [
    "df = df.drop(columns = ['house_rules','license'], errors = 'ignore')"
   ]
  },
  {
   "cell_type": "code",
   "execution_count": 12,
   "id": "3dc5de9d-d30e-4215-864b-16d0fde3491b",
   "metadata": {},
   "outputs": [
    {
     "data": {
      "text/html": [
       "<div>\n",
       "<style scoped>\n",
       "    .dataframe tbody tr th:only-of-type {\n",
       "        vertical-align: middle;\n",
       "    }\n",
       "\n",
       "    .dataframe tbody tr th {\n",
       "        vertical-align: top;\n",
       "    }\n",
       "\n",
       "    .dataframe thead th {\n",
       "        text-align: right;\n",
       "    }\n",
       "</style>\n",
       "<table border=\"1\" class=\"dataframe\">\n",
       "  <thead>\n",
       "    <tr style=\"text-align: right;\">\n",
       "      <th></th>\n",
       "      <th>id</th>\n",
       "      <th>NAME</th>\n",
       "      <th>host id</th>\n",
       "      <th>host_identity_verified</th>\n",
       "      <th>host name</th>\n",
       "      <th>neighbourhood group</th>\n",
       "      <th>neighbourhood</th>\n",
       "      <th>lat</th>\n",
       "      <th>long</th>\n",
       "      <th>country</th>\n",
       "      <th>...</th>\n",
       "      <th>Construction year</th>\n",
       "      <th>price</th>\n",
       "      <th>service fee</th>\n",
       "      <th>minimum nights</th>\n",
       "      <th>number of reviews</th>\n",
       "      <th>last review</th>\n",
       "      <th>reviews per month</th>\n",
       "      <th>review rate number</th>\n",
       "      <th>calculated host listings count</th>\n",
       "      <th>availability 365</th>\n",
       "    </tr>\n",
       "  </thead>\n",
       "  <tbody>\n",
       "    <tr>\n",
       "      <th>0</th>\n",
       "      <td>1001254</td>\n",
       "      <td>Clean &amp; quiet apt home by the park</td>\n",
       "      <td>80014485718</td>\n",
       "      <td>unconfirmed</td>\n",
       "      <td>Madaline</td>\n",
       "      <td>Brooklyn</td>\n",
       "      <td>Kensington</td>\n",
       "      <td>40.64749</td>\n",
       "      <td>-73.97237</td>\n",
       "      <td>United States</td>\n",
       "      <td>...</td>\n",
       "      <td>2020.0</td>\n",
       "      <td>$966</td>\n",
       "      <td>$193</td>\n",
       "      <td>10.0</td>\n",
       "      <td>9.0</td>\n",
       "      <td>2021-10-19</td>\n",
       "      <td>0.21</td>\n",
       "      <td>4.0</td>\n",
       "      <td>6.0</td>\n",
       "      <td>286.0</td>\n",
       "    </tr>\n",
       "    <tr>\n",
       "      <th>1</th>\n",
       "      <td>1002102</td>\n",
       "      <td>Skylit Midtown Castle</td>\n",
       "      <td>52335172823</td>\n",
       "      <td>verified</td>\n",
       "      <td>Jenna</td>\n",
       "      <td>Manhattan</td>\n",
       "      <td>Midtown</td>\n",
       "      <td>40.75362</td>\n",
       "      <td>-73.98377</td>\n",
       "      <td>United States</td>\n",
       "      <td>...</td>\n",
       "      <td>2007.0</td>\n",
       "      <td>$142</td>\n",
       "      <td>$28</td>\n",
       "      <td>30.0</td>\n",
       "      <td>45.0</td>\n",
       "      <td>2022-05-21</td>\n",
       "      <td>0.38</td>\n",
       "      <td>4.0</td>\n",
       "      <td>2.0</td>\n",
       "      <td>228.0</td>\n",
       "    </tr>\n",
       "    <tr>\n",
       "      <th>2</th>\n",
       "      <td>1002403</td>\n",
       "      <td>THE VILLAGE OF HARLEM....NEW YORK !</td>\n",
       "      <td>78829239556</td>\n",
       "      <td>NaN</td>\n",
       "      <td>Elise</td>\n",
       "      <td>Manhattan</td>\n",
       "      <td>Harlem</td>\n",
       "      <td>40.80902</td>\n",
       "      <td>-73.94190</td>\n",
       "      <td>United States</td>\n",
       "      <td>...</td>\n",
       "      <td>2005.0</td>\n",
       "      <td>$620</td>\n",
       "      <td>$124</td>\n",
       "      <td>3.0</td>\n",
       "      <td>0.0</td>\n",
       "      <td>2012-07-11</td>\n",
       "      <td>0.00</td>\n",
       "      <td>5.0</td>\n",
       "      <td>1.0</td>\n",
       "      <td>352.0</td>\n",
       "    </tr>\n",
       "    <tr>\n",
       "      <th>4</th>\n",
       "      <td>1003689</td>\n",
       "      <td>Entire Apt: Spacious Studio/Loft by central park</td>\n",
       "      <td>92037596077</td>\n",
       "      <td>verified</td>\n",
       "      <td>Lyndon</td>\n",
       "      <td>Manhattan</td>\n",
       "      <td>East Harlem</td>\n",
       "      <td>40.79851</td>\n",
       "      <td>-73.94399</td>\n",
       "      <td>United States</td>\n",
       "      <td>...</td>\n",
       "      <td>2009.0</td>\n",
       "      <td>$204</td>\n",
       "      <td>$41</td>\n",
       "      <td>10.0</td>\n",
       "      <td>9.0</td>\n",
       "      <td>2018-11-19</td>\n",
       "      <td>0.10</td>\n",
       "      <td>3.0</td>\n",
       "      <td>1.0</td>\n",
       "      <td>289.0</td>\n",
       "    </tr>\n",
       "    <tr>\n",
       "      <th>5</th>\n",
       "      <td>1004098</td>\n",
       "      <td>Large Cozy 1 BR Apartment In Midtown East</td>\n",
       "      <td>45498551794</td>\n",
       "      <td>verified</td>\n",
       "      <td>Michelle</td>\n",
       "      <td>Manhattan</td>\n",
       "      <td>Murray Hill</td>\n",
       "      <td>40.74767</td>\n",
       "      <td>-73.97500</td>\n",
       "      <td>United States</td>\n",
       "      <td>...</td>\n",
       "      <td>2013.0</td>\n",
       "      <td>$577</td>\n",
       "      <td>$115</td>\n",
       "      <td>3.0</td>\n",
       "      <td>74.0</td>\n",
       "      <td>2019-06-22</td>\n",
       "      <td>0.59</td>\n",
       "      <td>3.0</td>\n",
       "      <td>1.0</td>\n",
       "      <td>374.0</td>\n",
       "    </tr>\n",
       "  </tbody>\n",
       "</table>\n",
       "<p>5 rows × 24 columns</p>\n",
       "</div>"
      ],
      "text/plain": [
       "        id                                              NAME      host id  \\\n",
       "0  1001254                Clean & quiet apt home by the park  80014485718   \n",
       "1  1002102                             Skylit Midtown Castle  52335172823   \n",
       "2  1002403               THE VILLAGE OF HARLEM....NEW YORK !  78829239556   \n",
       "4  1003689  Entire Apt: Spacious Studio/Loft by central park  92037596077   \n",
       "5  1004098         Large Cozy 1 BR Apartment In Midtown East  45498551794   \n",
       "\n",
       "  host_identity_verified host name neighbourhood group neighbourhood  \\\n",
       "0            unconfirmed  Madaline            Brooklyn    Kensington   \n",
       "1               verified     Jenna           Manhattan       Midtown   \n",
       "2                    NaN     Elise           Manhattan        Harlem   \n",
       "4               verified    Lyndon           Manhattan   East Harlem   \n",
       "5               verified  Michelle           Manhattan   Murray Hill   \n",
       "\n",
       "        lat      long        country  ... Construction year  price  \\\n",
       "0  40.64749 -73.97237  United States  ...            2020.0  $966    \n",
       "1  40.75362 -73.98377  United States  ...            2007.0  $142    \n",
       "2  40.80902 -73.94190  United States  ...            2005.0  $620    \n",
       "4  40.79851 -73.94399  United States  ...            2009.0  $204    \n",
       "5  40.74767 -73.97500  United States  ...            2013.0  $577    \n",
       "\n",
       "  service fee minimum nights  number of reviews last review reviews per month  \\\n",
       "0       $193            10.0                9.0  2021-10-19              0.21   \n",
       "1        $28            30.0               45.0  2022-05-21              0.38   \n",
       "2       $124             3.0                0.0  2012-07-11              0.00   \n",
       "4        $41            10.0                9.0  2018-11-19              0.10   \n",
       "5       $115             3.0               74.0  2019-06-22              0.59   \n",
       "\n",
       "   review rate number  calculated host listings count availability 365  \n",
       "0                 4.0                             6.0            286.0  \n",
       "1                 4.0                             2.0            228.0  \n",
       "2                 5.0                             1.0            352.0  \n",
       "4                 3.0                             1.0            289.0  \n",
       "5                 3.0                             1.0            374.0  \n",
       "\n",
       "[5 rows x 24 columns]"
      ]
     },
     "execution_count": 12,
     "metadata": {},
     "output_type": "execute_result"
    }
   ],
   "source": [
    "df.head()"
   ]
  },
  {
   "cell_type": "markdown",
   "id": "30d15501-9433-4201-a232-f9c10a7a37fa",
   "metadata": {},
   "source": [
    "# Removed dollar sign and correct data type"
   ]
  },
  {
   "cell_type": "code",
   "execution_count": 14,
   "id": "bf9b643c-1367-456b-a019-63e0fee2afcc",
   "metadata": {},
   "outputs": [
    {
     "name": "stderr",
     "output_type": "stream",
     "text": [
      "<>:2: SyntaxWarning: invalid escape sequence '\\$'\n",
      "<>:3: SyntaxWarning: invalid escape sequence '\\$'\n",
      "<>:2: SyntaxWarning: invalid escape sequence '\\$'\n",
      "<>:3: SyntaxWarning: invalid escape sequence '\\$'\n",
      "C:\\Users\\Gupta ka Lapto\\AppData\\Local\\Temp\\ipykernel_3212\\737280620.py:2: SyntaxWarning: invalid escape sequence '\\$'\n",
      "  df['price'] = df['price'].replace('[\\$,]', '', regex=True).astype(float)\n",
      "C:\\Users\\Gupta ka Lapto\\AppData\\Local\\Temp\\ipykernel_3212\\737280620.py:3: SyntaxWarning: invalid escape sequence '\\$'\n",
      "  df['service fee'] = df['service fee'].replace('[\\$,]', '', regex=True).astype(float)\n"
     ]
    }
   ],
   "source": [
    "# Removed Dollar sign and covert to float\n",
    "df['price'] = df['price'].replace('[\\$,]', '', regex=True).astype(float)\n",
    "df['service fee'] = df['service fee'].replace('[\\$,]', '', regex=True).astype(float)"
   ]
  },
  {
   "cell_type": "code",
   "execution_count": 16,
   "id": "048f6143-37bb-49d8-8de6-017384060059",
   "metadata": {},
   "outputs": [
    {
     "name": "stdout",
     "output_type": "stream",
     "text": [
      "<class 'pandas.core.frame.DataFrame'>\n",
      "Index: 101949 entries, 0 to 102598\n",
      "Data columns (total 24 columns):\n",
      " #   Column                          Non-Null Count   Dtype         \n",
      "---  ------                          --------------   -----         \n",
      " 0   id                              101949 non-null  int64         \n",
      " 1   NAME                            101949 non-null  object        \n",
      " 2   host id                         101949 non-null  int64         \n",
      " 3   host_identity_verified          101673 non-null  object        \n",
      " 4   host name                       101949 non-null  object        \n",
      " 5   neighbourhood group             101923 non-null  object        \n",
      " 6   neighbourhood                   101933 non-null  object        \n",
      " 7   lat                             101941 non-null  float64       \n",
      " 8   long                            101941 non-null  float64       \n",
      " 9   country                         101423 non-null  object        \n",
      " 10  country code                    101827 non-null  object        \n",
      " 11  instant_bookable                101853 non-null  object        \n",
      " 12  cancellation_policy             101879 non-null  object        \n",
      " 13  room type                       101949 non-null  object        \n",
      " 14  Construction year               101749 non-null  float64       \n",
      " 15  price                           101710 non-null  float64       \n",
      " 16  service fee                     101681 non-null  float64       \n",
      " 17  minimum nights                  101546 non-null  float64       \n",
      " 18  number of reviews               101767 non-null  float64       \n",
      " 19  last review                     101949 non-null  datetime64[ns]\n",
      " 20  reviews per month               101949 non-null  float64       \n",
      " 21  review rate number              101635 non-null  float64       \n",
      " 22  calculated host listings count  101631 non-null  float64       \n",
      " 23  availability 365                101529 non-null  float64       \n",
      "dtypes: datetime64[ns](1), float64(11), int64(2), object(10)\n",
      "memory usage: 19.4+ MB\n"
     ]
    }
   ],
   "source": [
    "df.info()"
   ]
  },
  {
   "cell_type": "markdown",
   "id": "20e27fa6-5a54-4623-836d-4be5977ea1c4",
   "metadata": {},
   "source": [
    "# Remove Duplicates"
   ]
  },
  {
   "cell_type": "code",
   "execution_count": 18,
   "id": "244014e9-5bcc-4443-9c84-655d42a54e26",
   "metadata": {},
   "outputs": [],
   "source": [
    "df.drop_duplicates(inplace = True)"
   ]
  },
  {
   "cell_type": "code",
   "execution_count": 19,
   "id": "e027d6c4-411e-4bd5-b91c-a1f9e3308ca3",
   "metadata": {},
   "outputs": [
    {
     "name": "stdout",
     "output_type": "stream",
     "text": [
      "<class 'pandas.core.frame.DataFrame'>\n",
      "Index: 101410 entries, 0 to 102057\n",
      "Data columns (total 24 columns):\n",
      " #   Column                          Non-Null Count   Dtype         \n",
      "---  ------                          --------------   -----         \n",
      " 0   id                              101410 non-null  int64         \n",
      " 1   NAME                            101410 non-null  object        \n",
      " 2   host id                         101410 non-null  int64         \n",
      " 3   host_identity_verified          101134 non-null  object        \n",
      " 4   host name                       101410 non-null  object        \n",
      " 5   neighbourhood group             101384 non-null  object        \n",
      " 6   neighbourhood                   101394 non-null  object        \n",
      " 7   lat                             101402 non-null  float64       \n",
      " 8   long                            101402 non-null  float64       \n",
      " 9   country                         100884 non-null  object        \n",
      " 10  country code                    101288 non-null  object        \n",
      " 11  instant_bookable                101314 non-null  object        \n",
      " 12  cancellation_policy             101340 non-null  object        \n",
      " 13  room type                       101410 non-null  object        \n",
      " 14  Construction year               101210 non-null  float64       \n",
      " 15  price                           101171 non-null  float64       \n",
      " 16  service fee                     101142 non-null  float64       \n",
      " 17  minimum nights                  101016 non-null  float64       \n",
      " 18  number of reviews               101228 non-null  float64       \n",
      " 19  last review                     101410 non-null  datetime64[ns]\n",
      " 20  reviews per month               101410 non-null  float64       \n",
      " 21  review rate number              101103 non-null  float64       \n",
      " 22  calculated host listings count  101092 non-null  float64       \n",
      " 23  availability 365                100990 non-null  float64       \n",
      "dtypes: datetime64[ns](1), float64(11), int64(2), object(10)\n",
      "memory usage: 19.3+ MB\n"
     ]
    }
   ],
   "source": [
    "df.info()"
   ]
  },
  {
   "cell_type": "markdown",
   "id": "0462dc3b-7cec-4f6d-b96c-9e389d8fbb00",
   "metadata": {},
   "source": [
    "# Descriptive Statistics"
   ]
  },
  {
   "cell_type": "code",
   "execution_count": 22,
   "id": "a0b0f4f5-e050-4b93-84e2-cb322ec88fff",
   "metadata": {},
   "outputs": [
    {
     "data": {
      "text/html": [
       "<div>\n",
       "<style scoped>\n",
       "    .dataframe tbody tr th:only-of-type {\n",
       "        vertical-align: middle;\n",
       "    }\n",
       "\n",
       "    .dataframe tbody tr th {\n",
       "        vertical-align: top;\n",
       "    }\n",
       "\n",
       "    .dataframe thead th {\n",
       "        text-align: right;\n",
       "    }\n",
       "</style>\n",
       "<table border=\"1\" class=\"dataframe\">\n",
       "  <thead>\n",
       "    <tr style=\"text-align: right;\">\n",
       "      <th></th>\n",
       "      <th>id</th>\n",
       "      <th>host id</th>\n",
       "      <th>lat</th>\n",
       "      <th>long</th>\n",
       "      <th>Construction year</th>\n",
       "      <th>price</th>\n",
       "      <th>service fee</th>\n",
       "      <th>minimum nights</th>\n",
       "      <th>number of reviews</th>\n",
       "      <th>last review</th>\n",
       "      <th>reviews per month</th>\n",
       "      <th>review rate number</th>\n",
       "      <th>calculated host listings count</th>\n",
       "      <th>availability 365</th>\n",
       "    </tr>\n",
       "  </thead>\n",
       "  <tbody>\n",
       "    <tr>\n",
       "      <th>count</th>\n",
       "      <td>1.014100e+05</td>\n",
       "      <td>1.014100e+05</td>\n",
       "      <td>101402.000000</td>\n",
       "      <td>101402.000000</td>\n",
       "      <td>101210.000000</td>\n",
       "      <td>101171.000000</td>\n",
       "      <td>101142.000000</td>\n",
       "      <td>101016.000000</td>\n",
       "      <td>101228.000000</td>\n",
       "      <td>101410</td>\n",
       "      <td>101410.000000</td>\n",
       "      <td>101103.000000</td>\n",
       "      <td>101092.000000</td>\n",
       "      <td>100990.000000</td>\n",
       "    </tr>\n",
       "    <tr>\n",
       "      <th>mean</th>\n",
       "      <td>2.920959e+07</td>\n",
       "      <td>4.926155e+10</td>\n",
       "      <td>40.728082</td>\n",
       "      <td>-73.949663</td>\n",
       "      <td>2012.486908</td>\n",
       "      <td>625.381008</td>\n",
       "      <td>125.043998</td>\n",
       "      <td>8.113744</td>\n",
       "      <td>27.511854</td>\n",
       "      <td>2018-05-15 21:26:08.721033728</td>\n",
       "      <td>1.163207</td>\n",
       "      <td>3.278558</td>\n",
       "      <td>7.948463</td>\n",
       "      <td>141.164660</td>\n",
       "    </tr>\n",
       "    <tr>\n",
       "      <th>min</th>\n",
       "      <td>1.001254e+06</td>\n",
       "      <td>1.236005e+08</td>\n",
       "      <td>40.499790</td>\n",
       "      <td>-74.249840</td>\n",
       "      <td>2003.000000</td>\n",
       "      <td>50.000000</td>\n",
       "      <td>10.000000</td>\n",
       "      <td>-1223.000000</td>\n",
       "      <td>0.000000</td>\n",
       "      <td>2012-07-11 00:00:00</td>\n",
       "      <td>0.000000</td>\n",
       "      <td>1.000000</td>\n",
       "      <td>1.000000</td>\n",
       "      <td>-10.000000</td>\n",
       "    </tr>\n",
       "    <tr>\n",
       "      <th>25%</th>\n",
       "      <td>1.507574e+07</td>\n",
       "      <td>2.459183e+10</td>\n",
       "      <td>40.688730</td>\n",
       "      <td>-73.982570</td>\n",
       "      <td>2007.000000</td>\n",
       "      <td>340.000000</td>\n",
       "      <td>68.000000</td>\n",
       "      <td>2.000000</td>\n",
       "      <td>1.000000</td>\n",
       "      <td>2017-07-30 00:00:00</td>\n",
       "      <td>0.090000</td>\n",
       "      <td>2.000000</td>\n",
       "      <td>1.000000</td>\n",
       "      <td>3.000000</td>\n",
       "    </tr>\n",
       "    <tr>\n",
       "      <th>50%</th>\n",
       "      <td>2.922911e+07</td>\n",
       "      <td>4.912069e+10</td>\n",
       "      <td>40.722300</td>\n",
       "      <td>-73.954440</td>\n",
       "      <td>2012.000000</td>\n",
       "      <td>625.000000</td>\n",
       "      <td>125.000000</td>\n",
       "      <td>3.000000</td>\n",
       "      <td>7.000000</td>\n",
       "      <td>2019-05-23 00:00:00</td>\n",
       "      <td>0.480000</td>\n",
       "      <td>3.000000</td>\n",
       "      <td>1.000000</td>\n",
       "      <td>96.000000</td>\n",
       "    </tr>\n",
       "    <tr>\n",
       "      <th>75%</th>\n",
       "      <td>4.328308e+07</td>\n",
       "      <td>7.399747e+10</td>\n",
       "      <td>40.762750</td>\n",
       "      <td>-73.932340</td>\n",
       "      <td>2017.000000</td>\n",
       "      <td>913.000000</td>\n",
       "      <td>183.000000</td>\n",
       "      <td>5.000000</td>\n",
       "      <td>31.000000</td>\n",
       "      <td>2019-07-01 00:00:00</td>\n",
       "      <td>1.710000</td>\n",
       "      <td>4.000000</td>\n",
       "      <td>2.000000</td>\n",
       "      <td>269.000000</td>\n",
       "    </tr>\n",
       "    <tr>\n",
       "      <th>max</th>\n",
       "      <td>5.736742e+07</td>\n",
       "      <td>9.876313e+10</td>\n",
       "      <td>40.916970</td>\n",
       "      <td>-73.705220</td>\n",
       "      <td>2022.000000</td>\n",
       "      <td>1200.000000</td>\n",
       "      <td>240.000000</td>\n",
       "      <td>5645.000000</td>\n",
       "      <td>1024.000000</td>\n",
       "      <td>2058-06-16 00:00:00</td>\n",
       "      <td>90.000000</td>\n",
       "      <td>5.000000</td>\n",
       "      <td>332.000000</td>\n",
       "      <td>3677.000000</td>\n",
       "    </tr>\n",
       "    <tr>\n",
       "      <th>std</th>\n",
       "      <td>1.626820e+07</td>\n",
       "      <td>2.853703e+10</td>\n",
       "      <td>0.055850</td>\n",
       "      <td>0.049474</td>\n",
       "      <td>5.765130</td>\n",
       "      <td>331.609111</td>\n",
       "      <td>66.313374</td>\n",
       "      <td>30.378014</td>\n",
       "      <td>49.549258</td>\n",
       "      <td>NaN</td>\n",
       "      <td>1.683708</td>\n",
       "      <td>1.285369</td>\n",
       "      <td>32.328974</td>\n",
       "      <td>135.419199</td>\n",
       "    </tr>\n",
       "  </tbody>\n",
       "</table>\n",
       "</div>"
      ],
      "text/plain": [
       "                 id       host id            lat           long  \\\n",
       "count  1.014100e+05  1.014100e+05  101402.000000  101402.000000   \n",
       "mean   2.920959e+07  4.926155e+10      40.728082     -73.949663   \n",
       "min    1.001254e+06  1.236005e+08      40.499790     -74.249840   \n",
       "25%    1.507574e+07  2.459183e+10      40.688730     -73.982570   \n",
       "50%    2.922911e+07  4.912069e+10      40.722300     -73.954440   \n",
       "75%    4.328308e+07  7.399747e+10      40.762750     -73.932340   \n",
       "max    5.736742e+07  9.876313e+10      40.916970     -73.705220   \n",
       "std    1.626820e+07  2.853703e+10       0.055850       0.049474   \n",
       "\n",
       "       Construction year          price    service fee  minimum nights  \\\n",
       "count      101210.000000  101171.000000  101142.000000   101016.000000   \n",
       "mean         2012.486908     625.381008     125.043998        8.113744   \n",
       "min          2003.000000      50.000000      10.000000    -1223.000000   \n",
       "25%          2007.000000     340.000000      68.000000        2.000000   \n",
       "50%          2012.000000     625.000000     125.000000        3.000000   \n",
       "75%          2017.000000     913.000000     183.000000        5.000000   \n",
       "max          2022.000000    1200.000000     240.000000     5645.000000   \n",
       "std             5.765130     331.609111      66.313374       30.378014   \n",
       "\n",
       "       number of reviews                    last review  reviews per month  \\\n",
       "count      101228.000000                         101410      101410.000000   \n",
       "mean           27.511854  2018-05-15 21:26:08.721033728           1.163207   \n",
       "min             0.000000            2012-07-11 00:00:00           0.000000   \n",
       "25%             1.000000            2017-07-30 00:00:00           0.090000   \n",
       "50%             7.000000            2019-05-23 00:00:00           0.480000   \n",
       "75%            31.000000            2019-07-01 00:00:00           1.710000   \n",
       "max          1024.000000            2058-06-16 00:00:00          90.000000   \n",
       "std            49.549258                            NaN           1.683708   \n",
       "\n",
       "       review rate number  calculated host listings count  availability 365  \n",
       "count       101103.000000                   101092.000000     100990.000000  \n",
       "mean             3.278558                        7.948463        141.164660  \n",
       "min              1.000000                        1.000000        -10.000000  \n",
       "25%              2.000000                        1.000000          3.000000  \n",
       "50%              3.000000                        1.000000         96.000000  \n",
       "75%              4.000000                        2.000000        269.000000  \n",
       "max              5.000000                      332.000000       3677.000000  \n",
       "std              1.285369                       32.328974        135.419199  "
      ]
     },
     "execution_count": 22,
     "metadata": {},
     "output_type": "execute_result"
    }
   ],
   "source": [
    "df.describe()"
   ]
  },
  {
   "cell_type": "markdown",
   "id": "422d74a1-ba8d-479f-ab71-6bec312d2be8",
   "metadata": {},
   "source": [
    "# Visualization and Learning Implementation of this week"
   ]
  },
  {
   "cell_type": "markdown",
   "id": "28c04317-b95f-4209-aa3d-bcb3f96d277f",
   "metadata": {},
   "source": [
    "# Q.1 What is Distribution of listing prices ?"
   ]
  },
  {
   "cell_type": "code",
   "execution_count": 23,
   "id": "64ab6519-64c8-4293-ad25-2ba3a3dab2cd",
   "metadata": {},
   "outputs": [
    {
     "data": {
      "image/png": "[encoded data removed]",
      "text/plain": [
       "<Figure size 1000x600 with 1 Axes>"
      ]
     },
     "metadata": {},
     "output_type": "display_data"
    }
   ],
   "source": [
    "plt.figure(figsize = (10,6))\n",
    "sns.histplot(df['price'], bins = 50 , kde = True, color = 'blue')\n",
    "plt.title('Distribution of Listing Price')\n",
    "plt.xlabel('Price $')\n",
    "plt.ylabel('Frequency')\n",
    "plt.show()"
   ]
  },
  {
   "cell_type": "markdown",
   "id": "c5d52031-60cc-4fcd-862f-d3bf2a0b3135",
   "metadata": {},
   "source": [
    "Conclusion -> the histogram shows a fairly even distribution of listing prices across different price ranges , indicating no particular concentration of listings in any specific price range. the KDE line helps visualize this even spread more clearly, confirming that the dataset contains listings with a wide variety of prices. "
   ]
  },
  {
   "cell_type": "markdown",
   "id": "ab80cd09-6c10-408c-8c30-6fa630da4720",
   "metadata": {},
   "source": [
    "# Q.2 How are different room types distributed ?"
   ]
  },
  {
   "cell_type": "code",
   "execution_count": 25,
   "id": "b59885ad-111b-4141-a874-82a614ce0641",
   "metadata": {},
   "outputs": [
    {
     "data": {
      "text/plain": [
       "0            Private room\n",
       "1         Entire home/apt\n",
       "2            Private room\n",
       "4         Entire home/apt\n",
       "5         Entire home/apt\n",
       "               ...       \n",
       "102053       Private room\n",
       "102054       Private room\n",
       "102055    Entire home/apt\n",
       "102056       Private room\n",
       "102057    Entire home/apt\n",
       "Name: room type, Length: 101410, dtype: object"
      ]
     },
     "execution_count": 25,
     "metadata": {},
     "output_type": "execute_result"
    }
   ],
   "source": [
    "df['room type']"
   ]
  },
  {
   "cell_type": "code",
   "execution_count": 27,
   "id": "6f8ad518-7554-4830-8aea-5c4c3171aec3",
   "metadata": {},
   "outputs": [
    {
     "data": {
      "image/png": "[encoded data removed]",
      "text/plain": [
       "<Figure size 800x500 with 1 Axes>"
      ]
     },
     "metadata": {},
     "output_type": "display_data"
    }
   ],
   "source": [
    "plt.figure(figsize = (8,5))\n",
    "sns.countplot(x = \"room type\", data = df, color = 'brown')\n",
    "plt.title('Room Type Distribution')\n",
    "plt.xlabel('Room Type')\n",
    "plt.ylabel('Count')\n",
    "plt.show()"
   ]
  },
  {
   "cell_type": "markdown",
   "id": "ada701ff-3da1-4916-98c7-143e96f1fec8",
   "metadata": {},
   "source": [
    "Counclsion -> the count plot shows a clear distribution of the different room types available in the Airbnb Dataset. The majority of listings are for \n",
    "'Entire home/apt' and 'Private room' with 'Shared room' and 'Hotel room' being much less common. This insight can be useful for understanding the availability and popularity of different types of accommodations on Airbnb."
   ]
  },
  {
   "cell_type": "markdown",
   "id": "9ada5009-f14a-4fa9-b5ef-659041235ba7",
   "metadata": {},
   "source": [
    "# Q.3 How are listings distributed across different neighborhoods ?"
   ]
  },
  {
   "cell_type": "code",
   "execution_count": 33,
   "id": "f95e7a4c-8cf6-4e25-88ce-315b9d236c92",
   "metadata": {},
   "outputs": [
    {
     "data": {
      "image/png": "[encoded data removed]",
      "text/plain": [
       "<Figure size 1200x800 with 1 Axes>"
      ]
     },
     "metadata": {},
     "output_type": "display_data"
    }
   ],
   "source": [
    "plt.figure(figsize = (12,8))\n",
    "sns.countplot(y = 'neighbourhood group', data = df, color = 'green', order = df['neighbourhood group'].value_counts().index)\n",
    "plt.title('Number of listings by Neighborhood Group')\n",
    "plt.xlabel('Count')\n",
    "plt.ylabel('Neighborhood Group')\n",
    "plt.show()"
   ]
  },
  {
   "cell_type": "markdown",
   "id": "0fde4071-2905-4644-a7ce-42d95008d329",
   "metadata": {},
   "source": [
    "Conclusion -> the count plot shows a clear distribution of the number of listings across different neighborhood groups. Manhattan and Brooklyn dominate the listings suggesting they are prime locations for Airbnb . Queens , Bronx and staten island have fewer listings, indicating less availability or popularity."
   ]
  },
  {
   "cell_type": "markdown",
   "id": "7334b16e-7792-411b-aff4-fbf54a9316ce",
   "metadata": {},
   "source": [
    "# Q.4 What is the difference between price and room type ?"
   ]
  },
  {
   "cell_type": "code",
   "execution_count": 41,
   "id": "dd4d7b1c-d58e-408e-84f9-2ecc2af6594d",
   "metadata": {},
   "outputs": [
    {
     "name": "stderr",
     "output_type": "stream",
     "text": [
      "C:\\Users\\Gupta ka Lapto\\AppData\\Local\\Temp\\ipykernel_3212\\530744692.py:6: UserWarning: No artists with labels found to put in legend.  Note that artists whose label start with an underscore are ignored when legend() is called with no argument.\n",
      "  plt.legend(title = 'room type')\n"
     ]
    },
    {
     "data": {
      "image/png": "[encoded data removed]",
      "text/plain": [
       "<Figure size 1000x600 with 1 Axes>"
      ]
     },
     "metadata": {},
     "output_type": "display_data"
    }
   ],
   "source": [
    "plt.figure(figsize = (10,6))\n",
    "sns.boxplot(x = 'room type', y= 'price', hue = 'room type', data = df, palette = 'Set1')\n",
    "plt.title('Price VS Room Type')\n",
    "plt.xlabel('Room Type')\n",
    "plt.ylabel('Price $')\n",
    "plt.legend(title = 'room type')\n",
    "plt.show()"
   ]
  },
  {
   "cell_type": "markdown",
   "id": "863c3afa-adb3-418c-8844-db715c68afa2",
   "metadata": {},
   "source": [
    "Conclusion -> Price vs Room Type \n",
    "the box plot provides a detaied view of how prices vary across different room types in the Airbnb dataset. It shows that while 'Shared room' tends to have lower prices, 'Private room', \n",
    "'Entire home/apt', and 'Hotel room' have higher and more varied price ranges. This visualization helps in understanding the pricing dynamics for different types of accommodations on Airbnb.\n"
   ]
  },
  {
   "cell_type": "markdown",
   "id": "b9feadb0-df30-4d0f-b9b6-b2fad66b7d4e",
   "metadata": {},
   "source": [
    "# Q.5  How has the number of reviews change over with time ?"
   ]
  },
  {
   "cell_type": "code",
   "execution_count": 42,
   "id": "d850d218-9496-4726-a3f9-fc1aa54608d2",
   "metadata": {},
   "outputs": [
    {
     "data": {
      "image/png": "[encoded data removed]",
      "text/plain": [
       "<Figure size 1200x600 with 1 Axes>"
      ]
     },
     "metadata": {},
     "output_type": "display_data"
    }
   ],
   "source": [
    "df['last review'] = pd.to_datetime(df['last review'])\n",
    "reviews_over_time = df.groupby(df['last review'].dt.to_period('M')).size()\n",
    "\n",
    "plt.figure(figsize=(12,6))\n",
    "reviews_over_time.plot(kind='line',color='red')\n",
    "plt.title('Number of Reviews Over Time')\n",
    "plt.xlabel('Date')\n",
    "plt.ylabel('Number of Reviews')\n",
    "plt.show()\n"
   ]
  },
  {
   "cell_type": "markdown",
   "id": "8b8ad29e-430e-4687-b113-bc6c202cb4b1",
   "metadata": {},
   "source": [
    "Conclusion -> the line plot provides a clear visualization of the number of reviews over time. It helps identify trends and patterns in review activity, such as periods of high or low activity. This information can be useful for understanding     the dynamics of user engagement and the popularity of Airbnb listings over time. The significant spikes and drops in reviews might be worth further investigation     to understand the underlying causes, such as changes     in Airbnb policies, market conditions, or external events."
   ]
  },
  {
   "cell_type": "code",
   "execution_count": null,
   "id": "7ed46f83-abd1-4f5e-b451-1e233006715a",
   "metadata": {},
   "outputs": [],
   "source": []
  }
 ],
 "metadata": {
  "kernelspec": {
   "display_name": "Python 3 (ipykernel)",
   "language": "python",
   "name": "python3"
  },
  "language_info": {
   "codemirror_mode": {
    "name": "ipython",
    "version": 3
   },
   "file_extension": ".py",
   "mimetype": "text/x-python",
   "name": "python",
   "nbconvert_exporter": "python",
   "pygments_lexer": "ipython3",
   "version": "3.12.7"
  }
 },
 "nbformat": 4,
 "nbformat_minor": 5
}
